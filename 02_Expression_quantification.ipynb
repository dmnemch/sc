{
  "cells": [
    {
      "cell_type": "markdown",
      "source": [
        "# Workshop #2. Expression quantification"
      ],
      "metadata": {
        "id": "P9qI5J1zktKQ"
      }
    },
    {
      "cell_type": "markdown",
      "source": [
        "## Task 1\n",
        "\n",
        "Please, provide an example where even EM-based algorithm estimates expression wrong. Describe in which exact cases it might happens."
      ],
      "metadata": {
        "id": "YH6-wgQaq8q4"
      }
    },
    {
      "cell_type": "markdown",
      "source": [
        "1. If transcripts are significantly similar (maybe too short or from low-complexity regions)\n",
        "2. Maybe for some distributions initial abundance estimations may result in different result"
      ],
      "metadata": {
        "id": "de_FHH8mEs8L"
      }
    },
    {
      "cell_type": "code",
      "source": [
        "import random\n",
        "import numpy as np\n",
        "\n",
        "transcripts = [\n",
        "    \"ABCDE\",\n",
        "    \"BCDEF\",\n",
        "    \"CDEFG\",\n",
        "    \"DEFGH\",\n",
        "    \"EFGHI\"\n",
        "]\n",
        "\n",
        "seed = 10\n",
        "random.seed(seed)\n",
        "\n",
        "n_molecules = [random.randint(30, 1000) for i in transcripts]\n",
        "abundance_ground_truth = np.array([n_molecules[i] / sum(n_molecules) for i in range(len(n_molecules))])\n",
        "\n",
        "frac_reads = 0.1\n",
        "letters_pool = \"\".join([transcripts[i] * n_molecules[i] for i in range(len(transcripts))])\n",
        "reads = random.sample(letters_pool, int(frac_reads * len(letters_pool)))\n",
        "\n",
        "abundance, counts, step = EM(transcripts, reads)\n",
        "\n",
        "print(\"Ground Truth Abundances (%):\")\n",
        "print([f\"{abundance_ground_truth[i] * 100:.2f}%\" for i in range(len(transcripts))])\n",
        "\n",
        "print(\"Estimated Abundances (%):\")\n",
        "print([f\"{abundance[i] * 100:.2f}%\" for i in range(len(transcripts))])\n",
        "\n",
        "print(\"Differences in abundance (in %):\")\n",
        "print((abundance - abundance_ground_truth) * 100)\n"
      ],
      "metadata": {
        "id": "3X8u_dEiCSor",
        "outputId": "1c4243d5-49fb-4956-e737-ca4981f57588",
        "colab": {
          "base_uri": "https://localhost:8080/"
        }
      },
      "execution_count": 2,
      "outputs": [
        {
          "output_type": "stream",
          "name": "stdout",
          "text": [
            "Ground Truth Abundances (%):\n",
            "['26.83%', '2.75%', '20.46%', '22.86%', '27.09%']\n",
            "Estimated Abundances (%):\n",
            "['27.03%', '0.01%', '19.99%', '24.69%', '28.28%']\n",
            "Differences in abundance (in %):\n",
            "[ 0.20069808 -2.73499127 -0.47574171  1.82565445  1.18438045]\n"
          ]
        }
      ]
    }
  ],
  "metadata": {
    "colab": {
      "provenance": []
    },
    "kernelspec": {
      "display_name": "Python 3",
      "name": "python3"
    },
    "language_info": {
      "name": "python"
    }
  },
  "nbformat": 4,
  "nbformat_minor": 0
}